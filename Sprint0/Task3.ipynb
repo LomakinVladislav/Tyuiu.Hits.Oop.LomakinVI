{
 "cells": [
  {
   "cell_type": "markdown",
   "metadata": {},
   "source": [
    "<h1 style=\"color:DodgerBlue\">Индивидальный проект</h1>"
   ]
  },
  {
   "cell_type": "markdown",
   "metadata": {},
   "source": [
    "<h2 style=\"color:DodgerBlue\">Название проекта:</h2>\n",
    "\n",
    "----\n",
    "\n",
    "### Вариант задания 11\n",
    "\n"
   ]
  },
  {
   "cell_type": "markdown",
   "metadata": {},
   "source": [
    "<h2 style=\"color:DodgerBlue\">Описание проекта:</h2>\n",
    "\n",
    "----\n",
    "\n",
    "Создать базовый класс Customer в C#, который будет представлять информацию о\n",
    "клиентах или покупателях. На основе этого класса разработать 2-3 производных\n",
    "класса, демонстрирующих принципы наследования и полиморфизма. В каждом из\n",
    "классов должны быть реализованы новые атрибуты и методы, а также\n",
    "переопределены некоторые методы базового класса для демонстрации\n",
    "полиморфизма.\n"
   ]
  },
  {
   "cell_type": "markdown",
   "metadata": {},
   "source": [
    "<h2 style=\"color:DodgerBlue\">Реализация:</h2>\n",
    "\n",
    "----"
   ]
  },
  {
   "cell_type": "code",
   "execution_count": 52,
   "metadata": {
    "dotnet_interactive": {
     "language": "csharp"
    },
    "polyglot_notebook": {
     "kernelName": "csharp"
    }
   },
   "outputs": [
    {
     "name": "stdout",
     "output_type": "stream",
     "text": [
      "ID клиента: 1; имя: Kate; электронная почта: superfeya@gmail.com, баланс лояльности: 25\n",
      "\n",
      "ID клиента: 2; имя: Vladislav; электронная почта: industrialStudent@gmail.com\n",
      "2016.04.05 0:00:00\n",
      "ID клиента: 2; имя: Vladislav; электронная почта: smesharik2008@gmail.com\n",
      "13.09.2024 0:00:00\n",
      "\n",
      "ID клиента: 3; имя: Andrey; электронная почта: investmentFundOfficial@gmail.com\n",
      "InvestmentFundCorporation\n"
     ]
    }
   ],
   "source": [
    "public class Customer \n",
    "{\n",
    "    public int CustomerId { get; set; }\n",
    "    public string Name { get; set; }\n",
    "    public string Email { get; set; }\n",
    "\n",
    "    public Customer (int customerId, string name, string email) \n",
    "    {\n",
    "        CustomerId = customerId;\n",
    "        Name = name;\n",
    "        Email = email;\n",
    "    }\n",
    "\n",
    "    public virtual void GetFullName()\n",
    "    {\n",
    "        Console.WriteLine(Name);\n",
    "    }\n",
    "\n",
    "    public virtual void UpdateEmail(string newEmail)\n",
    "    {\n",
    "        Email = newEmail;\n",
    "    }\n",
    "\n",
    "    public virtual void ViewProfile()\n",
    "    {\n",
    "        Console.WriteLine($\"ID клиента: {CustomerId}; имя: {Name}; электронная почта: {Email}\");\n",
    "    }\n",
    "}\n",
    "\n",
    "\n",
    "public class VipCustomer : Customer\n",
    "{\n",
    "    public int LoyaltyPoint { get; set; }\n",
    "\n",
    "    public VipCustomer (int customerId, string name, string email, int loyaltyPoint) \n",
    "    : base(customerId, name, email)\n",
    "    {\n",
    "        LoyaltyPoint = loyaltyPoint;\n",
    "    }\n",
    "\n",
    "    public override void ViewProfile()\n",
    "    {\n",
    "        Console.WriteLine($\"ID клиента: {CustomerId}; имя: {Name}; электронная почта: {Email}, баланс лояльности: {LoyaltyPoint}\");\n",
    "    }\n",
    "}\n",
    "\n",
    "public class RegularCustomer : Customer \n",
    "{\n",
    "    public string RegistrationDate { get; set; }\n",
    "\n",
    "    public RegularCustomer (int customerId, string name, string email, string registrationDate) \n",
    "    : base(customerId, name, email)\n",
    "    {\n",
    "        RegistrationDate = registrationDate;\n",
    "    }\n",
    "\n",
    "    public override void UpdateEmail(string newEmail)\n",
    "    {\n",
    "        Email = newEmail;\n",
    "        RegistrationDate = DateTime.Today.ToString();\n",
    "    }\n",
    "}\n",
    "\n",
    "\n",
    "public class GroupCustomer : Customer \n",
    "{\n",
    "    public string GroupName { get; set; }\n",
    "\n",
    "    public GroupCustomer (int customerId, string name, string email, string groupName) \n",
    "    : base(customerId, name, email)\n",
    "    {\n",
    "        GroupName = groupName;\n",
    "    }\n",
    "\n",
    "    public override void GetFullName()\n",
    "    {\n",
    "        Console.WriteLine(GroupName);\n",
    "    }\n",
    "}\n",
    "\n",
    "VipCustomer myVipCustomer = new VipCustomer(1, \"Kate\", \"superfeya@gmail.com\", 25);\n",
    "RegularCustomer myRegCustomer = new RegularCustomer(2, \"Vladislav\", \"industrialStudent@gmail.com\", \"2016.04.05 0:00:00\");\n",
    "GroupCustomer myGrCustomer = new GroupCustomer(3, \"Andrey\", \"investmentFundOfficial@gmail.com\", \"InvestmentFundCorporation\");\n",
    "\n",
    "\n",
    "myVipCustomer.ViewProfile();  // 1ый клиент\n",
    "Console.WriteLine();\n",
    "\n",
    "myRegCustomer.ViewProfile(); // 2ой клиент\n",
    "Console.WriteLine(myRegCustomer.RegistrationDate); // дата регистарции 2го клиента\n",
    "myRegCustomer.UpdateEmail(\"smesharik2008@gmail.com\"); // обновление почты\n",
    "myRegCustomer.ViewProfile(); // профиль с обновленной почтой\n",
    "Console.WriteLine(myRegCustomer.RegistrationDate); // дата изменилась в соответствии с последним измененим почты\n",
    "Console.WriteLine();\n",
    "\n",
    "myGrCustomer.ViewProfile(); // 3ий клиент\n",
    "myGrCustomer.GetFullName(); // По ТЗ метод GetFullName вместо имени клиента возвращет название группы"
   ]
  }
 ],
 "metadata": {
  "kernelspec": {
   "display_name": ".NET (C#)",
   "language": "C#",
   "name": ".net-csharp"
  },
  "language_info": {
   "name": "polyglot-notebook"
  },
  "polyglot_notebook": {
   "kernelInfo": {
    "defaultKernelName": "csharp",
    "items": [
     {
      "aliases": [],
      "languageName": "csharp",
      "name": "csharp"
     }
    ]
   }
  }
 },
 "nbformat": 4,
 "nbformat_minor": 2
}
