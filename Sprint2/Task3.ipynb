{
 "cells": [
  {
   "cell_type": "markdown",
   "metadata": {},
   "source": [
    "<h1 style=\"color:DodgerBlue\">Индивидальный проект</h1>"
   ]
  },
  {
   "cell_type": "markdown",
   "metadata": {},
   "source": [
    "<h2 style=\"color:DodgerBlue\">Название проекта:</h2>\n",
    "\n",
    "----\n",
    "\n",
    "### Вариант задания 11\n",
    "\n"
   ]
  },
  {
   "cell_type": "markdown",
   "metadata": {},
   "source": [
    "<h2 style=\"color:DodgerBlue\">Описание проекта:</h2>\n",
    "\n",
    "----\n",
    "\n",
    "Создать базовый класс Customer в C#, который будет представлять информацию о\n",
    "клиентах или покупателях. На основе этого класса разработать 2-3 производных\n",
    "класса, демонстрирующих принципы наследования и полиморфизма. В каждом из\n",
    "классов должны быть реализованы новые атрибуты и методы, а также\n",
    "переопределены некоторые методы базового класса для демонстрации\n",
    "полиморфизма.\n",
    "\n",
    "#### Дополнительное задание\n",
    "Добавьте к сущестующим классам (базовыму и производным 3-4 атрибута и метода) и реализуйте простое, сложное и множественное наследование"
   ]
  },
  {
   "cell_type": "markdown",
   "metadata": {},
   "source": [
    "<h2 style=\"color:DodgerBlue\">Реализация:</h2>\n",
    "\n",
    "----"
   ]
  },
  {
   "cell_type": "code",
   "execution_count": 29,
   "metadata": {
    "dotnet_interactive": {
     "language": "csharp"
    },
    "polyglot_notebook": {
     "kernelName": "csharp"
    }
   },
   "outputs": [
    {
     "name": "stdout",
     "output_type": "stream",
     "text": [
      "Компанией BestCompany владеет leha.\r\n"
     ]
    }
   ],
   "source": [
    "public class Customer // В класс Customer добавлено свойство фон, которое наследуется всем подклассам.\n",
    "{\n",
    "    public int CustomerId { get; set; }\n",
    "    public string Name { get; set; }\n",
    "    public string Email { get; set; }\n",
    "    public string Phone { get; set; } \n",
    "\n",
    "\n",
    "    public Customer (int customerId, string name, string email, string phone) // Конструктор\n",
    "    {\n",
    "        CustomerId = customerId;\n",
    "        Name = name;\n",
    "        Email = email;\n",
    "        Phone = phone;\n",
    "    }\n",
    "\n",
    "\n",
    "    public void SayHello(Customer myCustomer)\n",
    "    {\n",
    "        Console.WriteLine($\"{Name} приветствует {myCustomer.Name}!\");\n",
    "    }\n",
    "\n",
    "    public virtual void GetFullName() // Методы класса\n",
    "    {\n",
    "        Console.WriteLine(Name);\n",
    "    }\n",
    "\n",
    "    public virtual void UpdateEmail(string newEmail)\n",
    "    {\n",
    "        Email = newEmail;\n",
    "    }\n",
    "\n",
    "    public virtual void ViewProfile()\n",
    "    {\n",
    "        Console.WriteLine($\"ID клиента: {CustomerId}; имя: {Name}; электронная почта: {Email}\");\n",
    "    }\n",
    "}\n",
    "\n",
    "public interface IVipCustomer // Интерфейс для задания необходимым свойств и методов для подкласса VipCustomer\n",
    "{\n",
    "    int LoyaltyPoint { get; set; } // Свойство без реализации\n",
    "    void ViewLoyaltyPoint();         // Метод без реализации\n",
    "}\n",
    "\n",
    "public class VipCustomer : Customer, IVipCustomer // Множественное наследование\n",
    "{\n",
    "    public int LoyaltyPoint { get; set; }\n",
    "\n",
    "    public VipCustomer (int customerId, string name, string email, string phone, int loyaltyPoint) \n",
    "    : base(customerId, name, email, phone)\n",
    "    {\n",
    "        LoyaltyPoint = loyaltyPoint;\n",
    "    }\n",
    "\n",
    "    public override void ViewProfile()\n",
    "    {\n",
    "        base.ViewProfile();\n",
    "        Console.WriteLine($\"баланс лояльности: {LoyaltyPoint}\");\n",
    "    }\n",
    "\n",
    "    public void ViewLoyaltyPoint()\n",
    "    {\n",
    "        Console.WriteLine($\"баланс лояльности: {LoyaltyPoint}\");\n",
    "    }\n",
    "}\n",
    "\n",
    "public class RegularCustomer : Customer \n",
    "{\n",
    "    public string RegistrationDate { get; set; }\n",
    "\n",
    "    public RegularCustomer (int customerId, string name, string email, string phone, string registrationDate) \n",
    "    : base(customerId, name, email, phone)\n",
    "    {\n",
    "        RegistrationDate = registrationDate;\n",
    "    }\n",
    "\n",
    "    public override void UpdateEmail(string newEmail)\n",
    "    {\n",
    "        Email = newEmail;\n",
    "        RegistrationDate = DateTime.Today.ToString();\n",
    "    }\n",
    "\n",
    "    public void MakeGift(RegularCustomer myCustomer)\n",
    "    {\n",
    "        Console.WriteLine($\"{Name} дарит подарок для {myCustomer.Name}!\");\n",
    "    }\n",
    "}\n",
    "\n",
    "\n",
    "public class GroupCustomer : Customer \n",
    "{\n",
    "    public VipCustomer Owner { get; set; }\n",
    "    public string GroupName { get; set; }\n",
    "    \n",
    "    public GroupCustomer (int customerId, string name, string email, string phone, string groupName) \n",
    "    : base(customerId, name, email, phone)\n",
    "    {\n",
    "        GroupName = groupName;\n",
    "    }\n",
    "    \n",
    "    public override void GetFullName()\n",
    "    {\n",
    "        Console.WriteLine(GroupName);\n",
    "    }\n",
    "\n",
    "    public void CheckOwner()\n",
    "    {\n",
    "        if (Owner != null)\n",
    "        {\n",
    "            Console.WriteLine($\"Компанией {GroupName} владеет {Owner.Name}.\");\n",
    "        }\n",
    "        else\n",
    "        {\n",
    "            Console.WriteLine($\"Владелец компании {GroupName} не определен.\");\n",
    "        }\n",
    "    }\n",
    "}\n",
    "\n",
    "public interface IPartnerCompanyCustomer // Интерфейс для задания необходимым свойств и методов для подкласса PartnerCompanyCustomer\n",
    "{\n",
    "    int Discount { get; set; }\n",
    "    void CheckDiscount();\n",
    "}\n",
    "\n",
    "public class PartnerCompanyCustomer : GroupCustomer, IPartnerCompanyCustomer // Множественное наследование\n",
    "{\n",
    "    public int Discount { get; set; }\n",
    "\n",
    "    public PartnerCompanyCustomer (int customerId, string name, string email, string phone, string groupName, int discount) \n",
    "    : base(customerId, name, email, phone, groupName)\n",
    "    {\n",
    "        Discount = discount;\n",
    "    }\n",
    "\n",
    "    public void CheckDiscount()\n",
    "    {\n",
    "        Console.WriteLine($\"Скидка компании: {Discount}\");\n",
    "    }\n",
    "}\n",
    "\n",
    "VipCustomer vipcust = new VipCustomer(1, \"leha\", \"43267784@gmail.com\", \"+79056789456\", 12);\n",
    "GroupCustomer grcust = new GroupCustomer(2, \"vova\", \"fdsf@gmail.com\", \"+79059997766\", \"BestCompany\");\n",
    "\n",
    "grcust.Owner = vipcust;\n",
    "\n",
    "grcust.CheckOwner();"
   ]
  }
 ],
 "metadata": {
  "kernelspec": {
   "display_name": ".NET (C#)",
   "language": "C#",
   "name": ".net-csharp"
  },
  "language_info": {
   "name": "polyglot-notebook"
  },
  "polyglot_notebook": {
   "kernelInfo": {
    "defaultKernelName": "csharp",
    "items": [
     {
      "aliases": [],
      "languageName": "csharp",
      "name": "csharp"
     }
    ]
   }
  }
 },
 "nbformat": 4,
 "nbformat_minor": 2
}
