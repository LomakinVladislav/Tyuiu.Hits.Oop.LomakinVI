{
 "cells": [
  {
   "cell_type": "markdown",
   "metadata": {},
   "source": [
    "<h1 style=\"color:DodgerBlue\">Индивидальный проект</h1>"
   ]
  },
  {
   "cell_type": "markdown",
   "metadata": {},
   "source": [
    "<h2 style=\"color:DodgerBlue\">Название проекта:</h2>\n",
    "\n",
    "----\n",
    "\n",
    "### Вариант задания 11\n"
   ]
  },
  {
   "cell_type": "markdown",
   "metadata": {},
   "source": [
    "<h2 style=\"color:DodgerBlue\">Описание проекта:</h2>\n",
    "\n",
    "----\n",
    "\n",
    "Создать базовый класс Customer в C#, который будет представлять информацию о\n",
    "клиентах или покупателях. На основе этого класса разработать 2-3 производных\n",
    "класса, демонстрирующих принципы наследования и полиморфизма. В каждом из\n",
    "классов должны быть реализованы новые атрибуты и методы, а также\n",
    "переопределены некоторые методы базового класса для демонстрации\n",
    "полиморфизма.\n",
    "\n",
    "#### Дополнительное задание\n",
    "Добавьте к сущестующим классам конструктора классов с использованием гетторов и сетторов и реализуйте взаимодействие объектов между собой"
   ]
  },
  {
   "cell_type": "markdown",
   "metadata": {},
   "source": [
    "<h2 style=\"color:DodgerBlue\">Реализация:</h2>\n",
    "\n",
    "----"
   ]
  },
  {
   "cell_type": "code",
   "execution_count": 57,
   "metadata": {
    "dotnet_interactive": {
     "language": "csharp"
    },
    "polyglot_notebook": {
     "kernelName": "csharp"
    }
   },
   "outputs": [
    {
     "name": "stdout",
     "output_type": "stream",
     "text": [
      "Сенека приветствует Луцилий!\n",
      "Луцилий дарит подарок для Алиса!\n",
      "Компанией FoundCorp владеет Олег.\n",
      "30\n"
     ]
    }
   ],
   "source": [
    "public class Customer \n",
    "{\n",
    "    private int _customerId;  // Атрибуты класса\n",
    "    private string _name;\n",
    "    private string _email;\n",
    "\n",
    "    public int CustomerId \n",
    "    {\n",
    "        get { return _customerId; }\n",
    "        set { _customerId = value; }\n",
    "    }\n",
    "\n",
    "    public string Name\n",
    "    {\n",
    "        get { return _name; }\n",
    "        set { _name = value; }\n",
    "    }\n",
    "\n",
    "    public string Email\n",
    "    {\n",
    "        get { return _email; }\n",
    "        set { _email = value; }\n",
    "    }\n",
    "\n",
    "\n",
    "    public Customer (int customerId, string name, string email) // Конструктор\n",
    "    {\n",
    "        CustomerId = customerId;\n",
    "        Name = name;\n",
    "        Email = email;\n",
    "    }\n",
    "\n",
    "\n",
    "    public void SayHello(Customer myCustomer)\n",
    "    {\n",
    "        Console.WriteLine($\"{Name} приветствует {myCustomer.Name}!\");\n",
    "    }\n",
    "\n",
    "    public virtual void GetFullName() // Методы класса\n",
    "    {\n",
    "        Console.WriteLine(Name);\n",
    "    }\n",
    "\n",
    "    public virtual void UpdateEmail(string newEmail)\n",
    "    {\n",
    "        Email = newEmail;\n",
    "    }\n",
    "\n",
    "    public virtual void ViewProfile()\n",
    "    {\n",
    "        Console.WriteLine($\"ID клиента: {CustomerId}; имя: {Name}; электронная почта: {Email}\");\n",
    "    }\n",
    "}\n",
    "\n",
    "\n",
    "public class VipCustomer : Customer\n",
    "{\n",
    "    private int _loyaltyPoint;\n",
    "\n",
    "    public int LoyaltyPoint \n",
    "    {\n",
    "        get { return _loyaltyPoint; }\n",
    "        set { _loyaltyPoint = value; }\n",
    "    }\n",
    "\n",
    "    public VipCustomer (int customerId, string name, string email, int loyaltyPoint) \n",
    "    : base(customerId, name, email)\n",
    "    {\n",
    "        LoyaltyPoint = loyaltyPoint;\n",
    "    }\n",
    "\n",
    "    public override void ViewProfile()\n",
    "    {\n",
    "        base.ViewProfile();\n",
    "        Console.WriteLine($\"баланс лояльности: {LoyaltyPoint}\");\n",
    "    }\n",
    "}\n",
    "\n",
    "public class RegularCustomer : Customer \n",
    "{\n",
    "    private string _registrationDate;\n",
    "\n",
    "    public string RegistrationDate \n",
    "    {\n",
    "        get { return _registrationDate; }\n",
    "        set { _registrationDate = value; }\n",
    "    }\n",
    "\n",
    "    public RegularCustomer (int customerId, string name, string email, string registrationDate) \n",
    "    : base(customerId, name, email)\n",
    "    {\n",
    "        RegistrationDate = registrationDate;\n",
    "    }\n",
    "\n",
    "    public override void UpdateEmail(string newEmail)\n",
    "    {\n",
    "        Email = newEmail;\n",
    "        RegistrationDate = DateTime.Today.ToString();\n",
    "    }\n",
    "\n",
    "    public void MakeGift(RegularCustomer myCustomer)\n",
    "    {\n",
    "        Console.WriteLine($\"{Name} дарит подарок для {myCustomer.Name}!\");\n",
    "    }\n",
    "}\n",
    "\n",
    "\n",
    "public class GroupCustomer : Customer \n",
    "{\n",
    "    private string _groupName;\n",
    "    private VipCustomer _owner;\n",
    "\n",
    "    public VipCustomer Owner\n",
    "    {\n",
    "        get { return _owner; }\n",
    "        set { _owner = value; }\n",
    "    }\n",
    "\n",
    "    public string GroupName\n",
    "    {\n",
    "        get { return _groupName; }\n",
    "        set { _groupName = value; }\n",
    "    }\n",
    "    \n",
    "    public GroupCustomer (int customerId, string name, string email, string groupName) \n",
    "    : base(customerId, name, email)\n",
    "    {\n",
    "        GroupName = groupName;\n",
    "    }\n",
    "    \n",
    "    public override void GetFullName()\n",
    "    {\n",
    "        Console.WriteLine(GroupName);\n",
    "    }\n",
    "\n",
    "    public void CheckOwner()\n",
    "    {\n",
    "        if (_owner != null)\n",
    "        {\n",
    "            Console.WriteLine($\"Компанией {GroupName} владеет {Owner.Name}.\");\n",
    "        }\n",
    "        else\n",
    "        {\n",
    "            Console.WriteLine($\"Владелец компании {GroupName} не определен.\");\n",
    "        }\n",
    "    }\n",
    "}\n",
    "\n",
    "RegularCustomer regCustomer1 = new RegularCustomer(1, \"Луцилий\", \"345@gmail.com\", \"24-02-2008\");\n",
    "VipCustomer vipCustomer = new VipCustomer(2, \"Олег\", \"345@gmail.com\", 30);\n",
    "GroupCustomer grCustomer = new GroupCustomer(3, \"Сенека\", \"123@gmail.com\", \"FoundCorp\") {Owner = vipCustomer};\n",
    "RegularCustomer regCustomer2 = new RegularCustomer(4, \"Алиса\", \"happy@mail.ru\", \"25-07-2019\");\n",
    "\n",
    "grCustomer.SayHello(regCustomer1); // Передаем объект непосредственно в функцию\n",
    "regCustomer1.MakeGift(regCustomer2); // Подарок можно сделать только для объекта от класса RegularCustomer\n",
    "grCustomer.CheckOwner(); // Связываем объекты с помощью их свойств\n",
    "Console.WriteLine(grCustomer.Owner.LoyaltyPoint); // Можем получать информацию об объекте через связанный с ним другой объект"
   ]
  }
 ],
 "metadata": {
  "kernelspec": {
   "display_name": ".NET (C#)",
   "language": "C#",
   "name": ".net-csharp"
  },
  "language_info": {
   "name": "polyglot-notebook"
  },
  "polyglot_notebook": {
   "kernelInfo": {
    "defaultKernelName": "csharp",
    "items": [
     {
      "aliases": [],
      "languageName": "csharp",
      "name": "csharp"
     }
    ]
   }
  }
 },
 "nbformat": 4,
 "nbformat_minor": 2
}
